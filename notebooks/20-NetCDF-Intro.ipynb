{
 "cells": [
  {
   "cell_type": "markdown",
   "metadata": {
    "slideshow": {
     "slide_type": "slide"
    }
   },
   "source": [
    "# Working with NetCDF files "
   ]
  },
  {
   "cell_type": "markdown",
   "metadata": {},
   "source": [
    "One of the most common file formats within environmental science is NetCDF ([Network Common Data Form](https://www.unidata.ucar.edu/software/netcdf/)). \n",
    "\n",
    "This format allows for storage of multiple variables, over multiple dimensions (i.e. N-dimensional arrays).   \n",
    "Files also contain the associated history and variable attributes. \n",
    "\n",
    "If you're not familiar with NetCDF, and would like to know more, there is a bit more general information at the bottom of this notebook.  \n",
    "For now, we'll simply focus on how to access and work with these files in python ... "
   ]
  },
  {
   "cell_type": "markdown",
   "metadata": {},
   "source": [
    "#### Example dataset\n",
    "http://xarray.pydata.org/en/stable/data-structures.html\n",
    "\n",
    "<br>\n",
    "<img src=\"../figures/dataset-diagram.png\">\n"
   ]
  },
  {
   "cell_type": "markdown",
   "metadata": {},
   "source": [
    "# NetCDF in python\n",
    "\n",
    "There are a few different packages that can be used to access data from NetCDF files.  \n",
    "These include: \n",
    "\n",
    "* [netCDF4](https://unidata.github.io/netcdf4-python/netCDF4/index.html)\n",
    "  * Core netCDF4 package within python.  \n",
    "* [iris](https://scitools.org.uk/iris/docs/latest/index.html) \n",
    "  * Developed for earth system data. \n",
    "  * Basic plots can be created within iris, with links to cartopy. \n",
    "* [xarray](http://xarray.pydata.org/en/stable/)\n",
    "  * A higher-level package, with a pandas-like interface for netCDF. \n",
    "  * What we'll focus on here today.\n"
   ]
  },
  {
   "cell_type": "markdown",
   "metadata": {},
   "source": [
    "## netCDF4\n",
    "\n",
    "Contains everything you need to read/modify/create netCDF files. e.g. \n",
    "\n",
    "```python\n",
    "from netCDF4 import Dataset\n",
    "\n",
    "openfile = Dataset('../data/cefas_GETM_nwes.nc4')\n",
    "bathymetry = openfile.variables['bathymetry'][:]\n",
    "```\n",
    "\n",
    "Variables are read into NumPy arrays (masked arrays if missing values specified). "
   ]
  },
  {
   "cell_type": "markdown",
   "metadata": {},
   "source": [
    "## xarray\n",
    "\n",
    "\n",
    "* Alternative to plain netCDF4 access from python. \n",
    "\n",
    "* Brings the power of pandas to environmental sciences, by providing N-dimensional variants of the core pandas data structures.\n",
    "  * Worth using for N-dimensional data, even when not reading netCDF files?\n",
    "\n",
    "| Pandas | xarray  |\n",
    "|---|---|\n",
    "| 1-D Series  | DataArray  |\n",
    "| DataFrame  | Dataset  |\n",
    "\n",
    "DataArray uses names of dimensions making it easier to track than by using axis numbers. \n",
    "\n",
    "For example, if you want to average your DataArray (da) over time, it is possible to write `da.mean(dim='time')`  \n",
    "You don't have to remember the index of the time axis.\n",
    "\n",
    "Compare:\n",
    "```python\n",
    "# xarray style\n",
    ">>> da.sel(time='2018-01-12').max(dim='ensemble')\n",
    "\n",
    "# standard numpy style\n",
    ">>> array[3, :, :].max(axis=2)\n",
    "```\n",
    "\n",
    "Without xarray, you need to first check which row refers to `time='2018-01-12'`, and which dimension is relevant for the ensemble. \n",
    "\n",
    "In the NumPy example, these choices are also not obvious to anyone reading the code at a later date. "
   ]
  },
  {
   "cell_type": "markdown",
   "metadata": {
    "slideshow": {
     "slide_type": "subslide"
    }
   },
   "source": [
    "#### The main advantages of using xarray versus plain netCDF4 are:\n",
    "\n",
    "* intelligent selection along labelled dimensions (and also indices)\n",
    "* [groupby operations](http://xarray.pydata.org/en/stable/generated/xarray.DataArray.groupby.html)\n",
    "* data alignment across named axes\n",
    "* IO (netcdf)\n",
    "  * Attributes/metadata held with the dataset. \n",
    "* conversion from and to Pandas.DataFrames"
   ]
  },
  {
   "cell_type": "markdown",
   "metadata": {},
   "source": [
    "## Xarray as Pandas for N dimensions"
   ]
  },
  {
   "cell_type": "code",
   "execution_count": null,
   "metadata": {},
   "outputs": [],
   "source": [
    "# Import everything that we are going to need... but not more\n",
    "import pandas as pd\n",
    "import xarray as xr\n",
    "import numpy as np"
   ]
  },
  {
   "cell_type": "code",
   "execution_count": null,
   "metadata": {},
   "outputs": [],
   "source": [
    "pd_s = pd.Series(range(3), index=list('abc'))\n",
    "print(pd_s)"
   ]
  },
  {
   "cell_type": "code",
   "execution_count": null,
   "metadata": {},
   "outputs": [],
   "source": [
    "#convert 1D series to ND aware DataArray \n",
    "da = xr.DataArray(pd_s)\n",
    "print(da)"
   ]
  },
  {
   "cell_type": "code",
   "execution_count": null,
   "metadata": {},
   "outputs": [],
   "source": [
    "#convert DataFrame to ND aware DataArray\n",
    "df = pd.DataFrame.from_dict({'A': [1, 2, 3], 'B': [4, 5, 6]},                         \n",
    "                             orient='index', columns=['one', 'two', 'three'])\n",
    "df"
   ]
  },
  {
   "cell_type": "code",
   "execution_count": null,
   "metadata": {},
   "outputs": [],
   "source": [
    "ds = xr.Dataset.from_dataframe(df)\n",
    "ds"
   ]
  },
  {
   "cell_type": "markdown",
   "metadata": {},
   "source": [
    "---\n",
    "\n",
    "# Lets open a netCDF file"
   ]
  },
  {
   "cell_type": "markdown",
   "metadata": {},
   "source": [
    "Here's a dataset we prepared earlier (find in your data folder): `cefas_GETM_nwes.nc4`"
   ]
  },
  {
   "cell_type": "code",
   "execution_count": null,
   "metadata": {},
   "outputs": [],
   "source": [
    "GETM = xr.open_dataset('../data/cefas_GETM_nwes.nc4')\n",
    "GETM"
   ]
  },
  {
   "cell_type": "markdown",
   "metadata": {},
   "source": [
    "We can extract information on the dimensions, coordinates and attributes of the dataset"
   ]
  },
  {
   "cell_type": "code",
   "execution_count": null,
   "metadata": {},
   "outputs": [],
   "source": [
    "# List dimensions\n",
    "GETM.dims"
   ]
  },
  {
   "cell_type": "code",
   "execution_count": null,
   "metadata": {},
   "outputs": [],
   "source": [
    "# Extract coordinates\n",
    "print(type(GETM.coords['latc']))\n",
    "GETM.coords['latc'].shape"
   ]
  },
  {
   "cell_type": "code",
   "execution_count": null,
   "metadata": {},
   "outputs": [],
   "source": [
    "# List name of dataset attributes\n",
    "GETM.attrs.keys()"
   ]
  },
  {
   "cell_type": "code",
   "execution_count": null,
   "metadata": {
    "scrolled": true
   },
   "outputs": [],
   "source": [
    "# List variable names\n",
    "GETM.data_vars.keys()"
   ]
  },
  {
   "cell_type": "code",
   "execution_count": null,
   "metadata": {},
   "outputs": [],
   "source": [
    "# print variable attributes\n",
    "print(GETM['h'].attrs)"
   ]
  },
  {
   "cell_type": "markdown",
   "metadata": {},
   "source": [
    "## Extract variable from dataset"
   ]
  },
  {
   "cell_type": "code",
   "execution_count": null,
   "metadata": {},
   "outputs": [],
   "source": [
    "temp = GETM['temp']\n",
    "print(temp.shape)\n",
    "temp\n",
    "\n",
    "# Can also use: \n",
    "# GETM.temp"
   ]
  },
  {
   "cell_type": "markdown",
   "metadata": {},
   "source": [
    "Check variable attributes, in the same way we access DataSet attributes"
   ]
  },
  {
   "cell_type": "code",
   "execution_count": null,
   "metadata": {},
   "outputs": [],
   "source": [
    "print(temp.attrs)\n",
    "print('Variable {} has units {}'.format(temp.attrs['long_name'], temp.attrs['units']))"
   ]
  },
  {
   "cell_type": "markdown",
   "metadata": {},
   "source": [
    "### Accessing data values"
   ]
  },
  {
   "cell_type": "markdown",
   "metadata": {},
   "source": [
    "Data can be subset using standard indexing methods. "
   ]
  },
  {
   "cell_type": "code",
   "execution_count": null,
   "metadata": {},
   "outputs": [],
   "source": [
    "temp[0, 0, 90, 100]"
   ]
  },
  {
   "cell_type": "code",
   "execution_count": null,
   "metadata": {},
   "outputs": [],
   "source": [
    "temp.values[0, 0, 90, 100]"
   ]
  },
  {
   "cell_type": "markdown",
   "metadata": {},
   "source": [
    "---\n",
    "\n",
    "## Xarray Indexing and selecting data\n",
    "\n",
    "Xarray offers a variety of ways to subset your data. \n",
    "\n",
    "From http://xarray.pydata.org/\n",
    "<br>\n",
    "<img src=\"../figures/xarray_indexing_table.png\">"
   ]
  },
  {
   "cell_type": "code",
   "execution_count": null,
   "metadata": {},
   "outputs": [],
   "source": [
    "#positional by integer\n",
    "print( temp[0, 2, :, :].shape )\n",
    "temp.dims"
   ]
  },
  {
   "cell_type": "code",
   "execution_count": null,
   "metadata": {},
   "outputs": [],
   "source": [
    "# positional by label (coordinate value)\n",
    "print( temp.loc['1996-02-02T01:00:00', 6, :, :].shape )"
   ]
  },
  {
   "cell_type": "code",
   "execution_count": null,
   "metadata": {},
   "outputs": [],
   "source": [
    "# by name and integer\n",
    "print( temp.isel(level=1, latc=90, lonc=100).shape )"
   ]
  },
  {
   "cell_type": "code",
   "execution_count": null,
   "metadata": {},
   "outputs": [],
   "source": [
    "# by name and label\n",
    "print( temp.sel(time='1996-02-02T01:00:00').shape )"
   ]
  },
  {
   "cell_type": "markdown",
   "metadata": {},
   "source": [
    "### Define selection using nearest value"
   ]
  },
  {
   "cell_type": "markdown",
   "metadata": {},
   "source": [
    "In examples above, you use the coordinate values to make the selection by label. \n",
    "\n",
    "If the value you want doesn't exist, it is possible to interpolate to the nearest index. e.g. "
   ]
  },
  {
   "cell_type": "code",
   "execution_count": null,
   "metadata": {},
   "outputs": [],
   "source": [
    "temp.sel(level=2, lonc=-5.0, latc=50.0, method='nearest')"
   ]
  },
  {
   "cell_type": "code",
   "execution_count": null,
   "metadata": {},
   "outputs": [],
   "source": [
    "# Use tolerance for label selection \n",
    "# e.g. latc=-50 should not yield data\n",
    "tol = 0.5\n",
    "\n",
    "try:\n",
    "    print(temp.sel(level=1, lonc=-5.0, latc=-50.0, method='nearest', tolerance=tol))\n",
    "except KeyError:\n",
    "    print(f'ERROR: outside tolerance of {tol}')"
   ]
  },
  {
   "cell_type": "markdown",
   "metadata": {},
   "source": [
    "Note: Other `method` options available are: \n",
    "* Backfill / bfill - propagate values backward\n",
    "* Pad / ffill - propagate values forward\n",
    "* None - default, exact matches only\n",
    "\n",
    "More information can be found in the xarray docs [here](http://xarray.pydata.org/en/stable/indexing.html). "
   ]
  },
  {
   "cell_type": "markdown",
   "metadata": {},
   "source": [
    "---\n",
    "---\n",
    "\n",
    "# Plotting"
   ]
  },
  {
   "cell_type": "markdown",
   "metadata": {},
   "source": [
    "Xarray enables simple plotting, to easily view your data"
   ]
  },
  {
   "cell_type": "code",
   "execution_count": null,
   "metadata": {},
   "outputs": [],
   "source": [
    "# But often, this will do\n",
    "#GETM.temp.isel(time=0, level=0).plot();\n",
    "GETM.temp.sel(time='1996-02-02T01:00:00', level=21).plot();"
   ]
  },
  {
   "cell_type": "markdown",
   "metadata": {},
   "source": [
    "We can use other packages to create something neater e.g. for publication or presentation. \n",
    "\n",
    "Let's look an example with cartopy."
   ]
  },
  {
   "cell_type": "code",
   "execution_count": null,
   "metadata": {},
   "outputs": [],
   "source": [
    "%matplotlib inline\n",
    "import matplotlib.pyplot as plt\n",
    "import cartopy\n",
    "import cartopy.crs as ccrs"
   ]
  },
  {
   "cell_type": "markdown",
   "metadata": {},
   "source": [
    "Define a general mapping function"
   ]
  },
  {
   "cell_type": "code",
   "execution_count": null,
   "metadata": {},
   "outputs": [],
   "source": [
    "#def make_map(ds, var='', title=None, units=None):\n",
    "def make_map():\n",
    "    # create figure and axes instances\n",
    "    fig = plt.figure()\n",
    "    ax = fig.add_subplot(111, projection=ccrs.Stereographic(central_latitude=60))\n",
    "    ax.set_extent([-10, 15, 49, 60], crs=ccrs.PlateCarree())\n",
    "    \n",
    "    gl = ax.gridlines(draw_labels=False)\n",
    "    \n",
    "    feature = cartopy.feature.NaturalEarthFeature(name='coastline',\n",
    "                                                  category='physical',\n",
    "                                                  scale='50m',\n",
    "                                                  edgecolor='0.5',\n",
    "                                                  facecolor='0.8')\n",
    "    ax.add_feature(feature)\n",
    "    return fig, ax\n",
    "\n",
    "make_map();"
   ]
  },
  {
   "cell_type": "markdown",
   "metadata": {},
   "source": [
    "Plot your chosen data on the map"
   ]
  },
  {
   "cell_type": "code",
   "execution_count": null,
   "metadata": {},
   "outputs": [],
   "source": [
    "latc = GETM.coords['latc']\n",
    "lonc = GETM.coords['lonc']\n",
    "\n",
    "var = GETM['temp'].sel(time='1996-02-02T01:00:00', level=21)\n",
    "\n",
    "# create arrays of coordinates for contourf\n",
    "# lon2d, lat2d = np.meshgrid(lonc, latc)\n",
    "\n",
    "fig, ax = make_map()\n",
    "# draw filled contours.\n",
    "h = ax.contourf(lonc, latc, var, 50, cmap=plt.cm.coolwarm, transform=ccrs.PlateCarree())\n",
    "\n",
    "# add colorbar.\n",
    "cbar = fig.colorbar(h)\n",
    "# with unit label\n",
    "cbar.set_label(var.units)\n",
    "\n",
    "# add title\n",
    "ax.set_title(f'A slice of {var.long_name}');"
   ]
  },
  {
   "cell_type": "markdown",
   "metadata": {},
   "source": [
    "## Arithmetic operations"
   ]
  },
  {
   "cell_type": "code",
   "execution_count": null,
   "metadata": {},
   "outputs": [],
   "source": [
    "top = GETM['temp'].isel(time=0, level=4)\n",
    "bottom = GETM['temp'].isel(time=0, level=0)\n",
    "\n",
    "diff = top - bottom\n",
    "\n",
    "diff.plot()"
   ]
  },
  {
   "cell_type": "markdown",
   "metadata": {},
   "source": [
    "### Calculate average along a dimension"
   ]
  },
  {
   "cell_type": "code",
   "execution_count": null,
   "metadata": {},
   "outputs": [],
   "source": [
    "# average over time\n",
    "time_ave = GETM['temp'].mean('time')\n",
    "\n",
    "#average over time and level (vertical)\n",
    "timelev_ave = GETM['temp'].mean(['time','level'])\n",
    "\n",
    "timelev_ave.plot()"
   ]
  },
  {
   "cell_type": "code",
   "execution_count": null,
   "metadata": {},
   "outputs": [],
   "source": [
    "#zonal average (vertical)\n",
    "timelon_ave = GETM['temp'].mean(['time','lonc']).isel(level=4)\n",
    "\n",
    "timelon_ave.plot()"
   ]
  },
  {
   "cell_type": "markdown",
   "metadata": {},
   "source": [
    "## A dataset can easily be saved to a netCDF file"
   ]
  },
  {
   "cell_type": "code",
   "execution_count": null,
   "metadata": {},
   "outputs": [],
   "source": [
    "ds = GETM[['temp']].mean('time','level')\n",
    "ds.to_netcdf('../data/temp_avg_level_time.nc')"
   ]
  },
  {
   "cell_type": "code",
   "execution_count": null,
   "metadata": {},
   "outputs": [],
   "source": [
    "print(type( GETM[['temp']]) )\n",
    "print(type( GETM['temp'])   )"
   ]
  },
  {
   "cell_type": "markdown",
   "metadata": {},
   "source": [
    "## Exercise\n",
    "\n",
    "* Extract the bathymetry\n",
    "* Extract the time averaged seabed temperature (level=0)\n",
    "* Produce a scatter plot of depth vs. seabed temperature\n"
   ]
  },
  {
   "cell_type": "code",
   "execution_count": null,
   "metadata": {},
   "outputs": [],
   "source": [
    "# bathy = GETM\n",
    "GETM.data_vars.keys()\n",
    "bathy=GETM['bathymetry']\n",
    "bathy\n",
    "\n",
    "temp_bott=GETM['temp'].mean('time').isel(level=0)\n",
    "temp_bott\n",
    "\n",
    "# bedtemp=GETM\n",
    "\n",
    "# plt.scatter(  , ,marker='.')"
   ]
  },
  {
   "cell_type": "code",
   "execution_count": null,
   "metadata": {},
   "outputs": [],
   "source": []
  },
  {
   "cell_type": "code",
   "execution_count": null,
   "metadata": {},
   "outputs": [],
   "source": []
  },
  {
   "cell_type": "code",
   "execution_count": null,
   "metadata": {},
   "outputs": [],
   "source": []
  },
  {
   "cell_type": "code",
   "execution_count": null,
   "metadata": {},
   "outputs": [],
   "source": []
  },
  {
   "cell_type": "code",
   "execution_count": null,
   "metadata": {},
   "outputs": [],
   "source": [
    "bathy = GETM['bathymetry']\n",
    "bathy.plot();"
   ]
  },
  {
   "cell_type": "code",
   "execution_count": null,
   "metadata": {},
   "outputs": [],
   "source": [
    "bedtemp=GETM['temp'].isel(level=0).mean('time')\n",
    "bedtemp.plot()\n",
    "bedtemp\n",
    "#plt.scatter(bathy,bedtemp)"
   ]
  },
  {
   "cell_type": "code",
   "execution_count": null,
   "metadata": {},
   "outputs": [],
   "source": [
    "fig = plt.figure()\n",
    "ax = fig.add_subplot(111)\n",
    "ax.scatter(bathy,bedtemp,marker='.',s=1.0)\n",
    "ax.set_xlabel('bathymetry (m)')\n",
    "ax.set_ylabel('Temp. diff (deg. C)');"
   ]
  },
  {
   "cell_type": "markdown",
   "metadata": {},
   "source": [
    "---\n",
    "\n",
    "## Import remote datasets\n",
    "\n",
    "xarray supports OpenDAP. This means that a dataset can be accessed remotely and subsetted as needed. Only the selected parts are downloaded."
   ]
  },
  {
   "cell_type": "code",
   "execution_count": null,
   "metadata": {},
   "outputs": [],
   "source": [
    "# Naughty datasets might require decode_cf=False\n",
    "# Here it just needed decode_times=False\n",
    "\n",
    "naughty_data = xr.open_dataset(\n",
    "      'http://iridl.ldeo.columbia.edu/SOURCES/.OSU/.PRISM/.monthly/dods',\n",
    "      decode_times=False)\n",
    "naughty_data"
   ]
  },
  {
   "cell_type": "markdown",
   "metadata": {
    "slideshow": {
     "slide_type": "slide"
    }
   },
   "source": [
    "---\n",
    "---\n",
    "\n",
    "# More on the netCDF file format"
   ]
  },
  {
   "cell_type": "markdown",
   "metadata": {},
   "source": [
    "* popular scientific file format for ocean and atmospere gridded datasets\n",
    "* netCDF is a collection of formats for storing arrays\n",
    "\n",
    "    * netCDF classic\n",
    "        * more widespread\n",
    "        * 2 GB file limit (if you don't use the unlimited dimension)\n",
    "        * often preffered for distributing products\n",
    "\n",
    "    * netCDF 64 bit offset\n",
    "        * supports larger files\n",
    "\n",
    "    * NetCDF4\n",
    "        * based on HDF5\n",
    "        * compression\n",
    "        * multiple unlimited variables\n",
    "        * new types inc. user defined\n",
    "        * herarchical groups\n",
    "        \n",
    "        \n",
    "\n",
    "* Developed by Unidata-UCAR with the aim of storing climate model data (3D+time)\n",
    "* Auxilary information about each variable can be added\n",
    "* Readable text equivalent called CDL (use ncdump/ncgen)\n",
    "* Can be used with Climate and Forecast (CF) data convention\n",
    "http://cfconventions.org/"
   ]
  },
  {
   "cell_type": "markdown",
   "metadata": {
    "slideshow": {
     "slide_type": "subslide"
    }
   },
   "source": [
    "## Data model:\n",
    "\n",
    "* Dimensions:describe the axes of the data arrays.\n",
    "* Variables: N-dimensional arrays of data.\n",
    "* Attributes: annotate variables or files with small notes or supplementary metadata.\n",
    "\n",
    "Example for an ocean model dataset:\n",
    "\n",
    "* Dimensions\n",
    "    * lat\n",
    "    * lon\n",
    "    * depth\n",
    "    * time\n",
    "* Variable\n",
    "    * Temperature\n",
    "    * Salinity\n",
    "* Global Attibutes\n",
    "    * Geographic grid type\n",
    "    * History\n",
    "\n",
    "\n",
    "\n",
    "* Variable attributes (Temperature)\n",
    "    * Long_name: \"sea water temperature\" \n",
    "    * Missing_value: 1.09009E36\n",
    "    * Units: deg. C\n",
    "    * range: -2:50"
   ]
  },
  {
   "cell_type": "markdown",
   "metadata": {},
   "source": [
    "## Tools for working with netCDF files\n"
   ]
  },
  {
   "cell_type": "markdown",
   "metadata": {},
   "source": [
    "#### You can peek inside your netcdf file from the prompt window: \n",
    "\n",
    "```\n",
    "$ ncdump data/cefas_GETM_nwes.nc4 | more\n",
    "netcdf cefas_GETM_nwes {\n",
    "dimensions:\n",
    "        latc = 360 ;\n",
    "        lonc = 396 ;\n",
    "        time = UNLIMITED ; // (6 currently)\n",
    "        level = 5 ;\n",
    "variables:\n",
    "        double bathymetry(latc, lonc) ;\n",
    "                bathymetry:units = \"m\" ;\n",
    "                bathymetry:long_name = \"bathymetry\" ;\n",
    "                bathymetry:valid_range = -5., 4000. ;\n",
    "                bathymetry:_FillValue = -10. ;\n",
    "                bathymetry:missing_value = -10. ;\n",
    "        float h(time, level, latc, lonc) ;\n",
    "                h:units = \"m\" ;\n",
    "                h:long_name = \"layer thickness\" ;\n",
    "                h:_FillValue = -9999.f ;\n",
    "                h:missing_value = -9999.f ;\n",
    "        double latc(latc) ;\n",
    "                latc:units = \"degrees_north\" ;\n",
    "        double level(level) ;\n",
    "                level:units = \"level\" ;\n",
    "        double lonc(lonc) ;\n",
    "                lonc:units = \"degrees_east\" ;\n",
    "        float temp(time, level, latc, lonc) ;\n",
    "                temp:units = \"degC\" ;\n",
    "                temp:long_name = \"temperature\" ;\n",
    "                temp:valid_range = -2.f, 40.f ;\n",
    "                temp:_FillValue = -9999.f ;\n",
    "                temp:missing_value = -9999.f ;\n",
    "        double time(time) ;\n",
    "                time:long_name = \"time\" ;\n",
    "                time:units = \"seconds since 1996-01-01 00:00:00\" ;\n",
    "```"
   ]
  },
  {
   "cell_type": "markdown",
   "metadata": {
    "slideshow": {
     "slide_type": "subslide"
    }
   },
   "source": [
    "### C and Fortran libraries\n",
    "Used to underpin interfaces to other languages such as python (e.g. python package netCDF4)\n",
    "\n",
    "Include ncdump/ncgen to convert to and from human readable format.\n",
    "\n",
    "### nco tools http://nco.sourceforge.net/nco.html\n",
    "Command line utilities to extract, create and operate data in netCDF files.\n",
    "\n",
    "```\n",
    "    > ncks -v u_wind -d lat,50.,51. -d lon,0.,5 inputfile.nc outputfile.nc\n",
    "```\n",
    "\n",
    "### cdo tools\n",
    "Another powerful CLI utility https://code.mpimet.mpg.de/projects/cdo/\n",
    "\n",
    "### Viewers\n",
    "ncdump, ncview, panoply, pyncview, etc.\n",
    "\n",
    "### Readable by many software tools\n",
    "ArcGIS, QGIS, Surfer, Ferret, Paraview etc.\n"
   ]
  },
  {
   "cell_type": "markdown",
   "metadata": {},
   "source": [
    "# References\n",
    "\n",
    "* xarray [docs](http://xarray.pydata.org/en/stable/) \n",
    "* netCDF4 [docs](https://unidata.github.io/netcdf4-python/netCDF4/index.html)\n",
    "* Stephan Hoyer's [ECMWF talk](https://docs.google.com/presentation/d/16CMY3g_OYr6fQplUZIDqVtG-SKZqsG8Ckwoj2oOqepU/edit#slide=id.g2b68f9254d_1_27)"
   ]
  }
 ],
 "metadata": {
  "anaconda-cloud": {},
  "kernelspec": {
   "display_name": "Python 3",
   "language": "python",
   "name": "python3"
  },
  "language_info": {
   "codemirror_mode": {
    "name": "ipython",
    "version": 3
   },
   "file_extension": ".py",
   "mimetype": "text/x-python",
   "name": "python",
   "nbconvert_exporter": "python",
   "pygments_lexer": "ipython3",
   "version": "3.8.3"
  }
 },
 "nbformat": 4,
 "nbformat_minor": 1
}
